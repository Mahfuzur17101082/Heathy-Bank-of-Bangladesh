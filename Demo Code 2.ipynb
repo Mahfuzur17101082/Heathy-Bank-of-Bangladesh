{
 "cells": [
  {
   "cell_type": "code",
   "execution_count": 165,
   "metadata": {},
   "outputs": [],
   "source": [
    "import numpy as np\n",
    "import pandas as pd\n",
    "import seaborn as sns\n",
    "import matplotlib.pyplot as plt\n",
    "from statistics import mean \n",
    "from sklearn.ensemble import RandomForestClassifier\n",
    "from sklearn.neighbors import KNeighborsClassifier\n",
    "from sklearn.naive_bayes import GaussianNB\n",
    "from sklearn.model_selection import train_test_split\n",
    "from keras.models import Sequential\n",
    "from keras.layers import Dense"
   ]
  },
  {
   "cell_type": "code",
   "execution_count": null,
   "metadata": {},
   "outputs": [],
   "source": []
  },
  {
   "cell_type": "code",
   "execution_count": null,
   "metadata": {},
   "outputs": [],
   "source": []
  },
  {
   "cell_type": "code",
   "execution_count": null,
   "metadata": {},
   "outputs": [],
   "source": []
  },
  {
   "cell_type": "code",
   "execution_count": null,
   "metadata": {},
   "outputs": [],
   "source": []
  },
  {
   "cell_type": "code",
   "execution_count": null,
   "metadata": {},
   "outputs": [],
   "source": []
  },
  {
   "cell_type": "code",
   "execution_count": null,
   "metadata": {},
   "outputs": [],
   "source": []
  },
  {
   "cell_type": "code",
   "execution_count": null,
   "metadata": {},
   "outputs": [],
   "source": []
  },
  {
   "cell_type": "code",
   "execution_count": 166,
   "metadata": {},
   "outputs": [],
   "source": [
    "df = pd.read_excel('testing.xlsx')"
   ]
  },
  {
   "cell_type": "code",
   "execution_count": 167,
   "metadata": {},
   "outputs": [
    {
     "data": {
      "text/html": [
       "<div>\n",
       "<style scoped>\n",
       "    .dataframe tbody tr th:only-of-type {\n",
       "        vertical-align: middle;\n",
       "    }\n",
       "\n",
       "    .dataframe tbody tr th {\n",
       "        vertical-align: top;\n",
       "    }\n",
       "\n",
       "    .dataframe thead th {\n",
       "        text-align: right;\n",
       "    }\n",
       "</style>\n",
       "<table border=\"1\" class=\"dataframe\">\n",
       "  <thead>\n",
       "    <tr style=\"text-align: right;\">\n",
       "      <th></th>\n",
       "      <th>Bank</th>\n",
       "      <th>Year</th>\n",
       "      <th>Deposits</th>\n",
       "      <th>Loans and advances</th>\n",
       "      <th>Investments</th>\n",
       "      <th>NPA</th>\n",
       "      <th>NPL %</th>\n",
       "      <th>Profit</th>\n",
       "    </tr>\n",
       "  </thead>\n",
       "  <tbody>\n",
       "    <tr>\n",
       "      <th>0</th>\n",
       "      <td>Prime Bank</td>\n",
       "      <td>2013</td>\n",
       "      <td>201907.0</td>\n",
       "      <td>153589.0</td>\n",
       "      <td>56940.0</td>\n",
       "      <td>-48317.961281</td>\n",
       "      <td>5.09</td>\n",
       "      <td>1829.0</td>\n",
       "    </tr>\n",
       "    <tr>\n",
       "      <th>1</th>\n",
       "      <td>AB Bank</td>\n",
       "      <td>2013</td>\n",
       "      <td>161846.0</td>\n",
       "      <td>28676.0</td>\n",
       "      <td>28676.0</td>\n",
       "      <td>-133169.994029</td>\n",
       "      <td>3.37</td>\n",
       "      <td>1011.0</td>\n",
       "    </tr>\n",
       "    <tr>\n",
       "      <th>2</th>\n",
       "      <td>Dhaka Bank</td>\n",
       "      <td>2013</td>\n",
       "      <td>115981.0</td>\n",
       "      <td>99596.0</td>\n",
       "      <td>18757.0</td>\n",
       "      <td>-16384.964363</td>\n",
       "      <td>4.15</td>\n",
       "      <td>1927.0</td>\n",
       "    </tr>\n",
       "    <tr>\n",
       "      <th>3</th>\n",
       "      <td>DBBL</td>\n",
       "      <td>2013</td>\n",
       "      <td>145230.1</td>\n",
       "      <td>106422.8</td>\n",
       "      <td>17441.9</td>\n",
       "      <td>-38807.271421</td>\n",
       "      <td>3.90</td>\n",
       "      <td>2000.8</td>\n",
       "    </tr>\n",
       "    <tr>\n",
       "      <th>4</th>\n",
       "      <td>City Bank</td>\n",
       "      <td>2013</td>\n",
       "      <td>107497.0</td>\n",
       "      <td>89879.0</td>\n",
       "      <td>26492.0</td>\n",
       "      <td>-17617.932275</td>\n",
       "      <td>8.10</td>\n",
       "      <td>911.0</td>\n",
       "    </tr>\n",
       "  </tbody>\n",
       "</table>\n",
       "</div>"
      ],
      "text/plain": [
       "         Bank  Year  Deposits  Loans and advances  Investments            NPA  \\\n",
       "0  Prime Bank  2013  201907.0            153589.0      56940.0  -48317.961281   \n",
       "1     AB Bank  2013  161846.0             28676.0      28676.0 -133169.994029   \n",
       "2  Dhaka Bank  2013  115981.0             99596.0      18757.0  -16384.964363   \n",
       "3        DBBL  2013  145230.1            106422.8      17441.9  -38807.271421   \n",
       "4   City Bank  2013  107497.0             89879.0      26492.0  -17617.932275   \n",
       "\n",
       "   NPL %  Profit  \n",
       "0   5.09  1829.0  \n",
       "1   3.37  1011.0  \n",
       "2   4.15  1927.0  \n",
       "3   3.90  2000.8  \n",
       "4   8.10   911.0  "
      ]
     },
     "execution_count": 167,
     "metadata": {},
     "output_type": "execute_result"
    }
   ],
   "source": [
    "df.head()"
   ]
  },
  {
   "cell_type": "code",
   "execution_count": 168,
   "metadata": {},
   "outputs": [
    {
     "data": {
      "text/plain": [
       "array(['Prime Bank', 'AB Bank', 'Dhaka Bank', 'DBBL', 'City Bank', 'MTB',\n",
       "       'IFIC', 'EBL', 'One Bank', 'South East Bank'], dtype=object)"
      ]
     },
     "execution_count": 168,
     "metadata": {},
     "output_type": "execute_result"
    }
   ],
   "source": [
    "df[\"Bank\"].unique()"
   ]
  },
  {
   "cell_type": "code",
   "execution_count": 169,
   "metadata": {},
   "outputs": [],
   "source": [
    "df1=df[[\"Bank\", \"Year\"]]\n",
    "df1=df1[(df1.Year != 2013)]\n",
    "df1.reset_index(inplace=True)\n",
    "df1=df1.drop(columns=[\"index\"])"
   ]
  },
  {
   "cell_type": "code",
   "execution_count": 170,
   "metadata": {},
   "outputs": [],
   "source": [
    "np_df=np.empty([len(df[\"Bank\"].unique())*(len(df[\"Year\"].unique())-1), df.shape[1]-1], dtype=object) \n",
    "np_df1=df1.to_numpy()"
   ]
  },
  {
   "cell_type": "code",
   "execution_count": 171,
   "metadata": {},
   "outputs": [],
   "source": [
    "df2013=df[(df.Year == 2013)]\n",
    "df2014=df[(df.Year == 2014)]\n",
    "df2015=df[(df.Year == 2015)]\n",
    "df2016=df[(df.Year == 2016)]\n",
    "df2017=df[(df.Year == 2017)]\n",
    "df2018=df[(df.Year == 2018)]\n",
    "\n",
    "np_df2013=df2013.to_numpy()\n",
    "np_df2014=df2014.to_numpy()\n",
    "np_df2015=df2015.to_numpy()\n",
    "np_df2016=df2016.to_numpy()\n",
    "np_df2017=df2017.to_numpy()\n",
    "np_df2018=df2018.to_numpy()"
   ]
  },
  {
   "cell_type": "code",
   "execution_count": 172,
   "metadata": {},
   "outputs": [],
   "source": [
    "\"\"\"\n",
    "def change(x, y):\n",
    "    if(x != 0):\n",
    "        i=((y-x)*100.0)/x\n",
    "        if(i>15.0):\n",
    "            return 1\n",
    "        elif(i<=15.0 and i>7.5):\n",
    "            return 2\n",
    "        elif(i<=7.5 and i>-7.5):\n",
    "            return 3\n",
    "        elif(i<=-7.5 and i>-15):\n",
    "            return 4\n",
    "        elif(i<-15.0):\n",
    "            return 5\n",
    "    else:\n",
    "        return 3\n",
    "\"\"\"    \n",
    "def change(x, y):\n",
    "    if(x != 0):\n",
    "        i=((y-x)*100.0)/x\n",
    "        if(i>10.0):\n",
    "            return 1\n",
    "        elif(i<=10.0 and i>-10.0):\n",
    "            return 2\n",
    "        elif(i<=-10.0):\n",
    "            return 3\n",
    "    else:\n",
    "        return 2\n"
   ]
  },
  {
   "cell_type": "code",
   "execution_count": 173,
   "metadata": {},
   "outputs": [],
   "source": [
    "#2014\n",
    "for i in range(0, len(df[\"Bank\"].unique())):\n",
    "    np_df[i, 0] = np_df1[i, 0] +\" \"+ str(np_df1[i, 1])\n",
    "    np_df[i, 1] = change(np_df2013[i, 2], np_df2014[i, 2])\n",
    "    np_df[i, 2] = change(np_df2013[i, 3], np_df2014[i, 3])\n",
    "    np_df[i, 3] = change(np_df2013[i, 4], np_df2014[i, 4])\n",
    "    np_df[i, 4] = change(np_df2013[i, 5], np_df2014[i, 5])\n",
    "    np_df[i, 5] = change(np_df2013[i, 6], np_df2014[i, 6])\n",
    "    np_df[i, 6] = change(np_df2013[i, 7], np_df2014[i, 7])\n",
    " \n",
    "\n",
    "    \n",
    "#2015\n",
    "c=0\n",
    "for i in range(i+1, len(df[\"Bank\"].unique())+i+1):\n",
    "    np_df[i, 0] = np_df1[i, 0] +\" \"+ str(np_df1[i, 1])\n",
    "    np_df[i, 1] = change(mean([np_df2013[c, 2], np_df2014[c, 2]]) , mean([np_df2014[c, 2], np_df2015[c, 2]]))\n",
    "    np_df[i, 2] = change(mean([np_df2013[c, 3], np_df2014[c, 3]]) , mean([np_df2014[c, 3], np_df2015[c, 3]]))\n",
    "    np_df[i, 3] = change(mean([np_df2013[c, 4], np_df2014[c, 4]]) , mean([np_df2014[c, 4], np_df2015[c, 4]]))\n",
    "    np_df[i, 4] = change(mean([np_df2013[c, 5], np_df2014[c, 5]]) , mean([np_df2014[c, 5], np_df2015[c, 5]]))\n",
    "    np_df[i, 5] = change(mean([np_df2013[c, 6], np_df2014[c, 6]]) , mean([np_df2014[c, 6], np_df2015[c, 6]]))\n",
    "    np_df[i, 6] = change(mean([np_df2013[c, 7], np_df2014[c, 7]]) , mean([np_df2014[c, 7], np_df2015[c, 7]]))\n",
    "    c=c+1\n",
    "    \n",
    "    \n",
    "    \n",
    "#2016\n",
    "c=0\n",
    "for i in range(i+1, len(df[\"Bank\"].unique())+i+1):\n",
    "    np_df[i, 0] = np_df1[i, 0] +\" \"+ str(np_df1[i, 1])\n",
    "    np_df[i, 1] = change(mean([np_df2013[c, 2], np_df2014[c, 2], np_df2015[c, 2]]), \n",
    "                         mean([np_df2014[c, 2], np_df2015[c, 2], np_df2016[c, 2]]))\n",
    "    np_df[i, 2] = change(mean([np_df2013[c, 3], np_df2014[c, 3], np_df2015[c, 3]]),\n",
    "                         mean([np_df2014[c, 3], np_df2015[c, 3], np_df2016[c, 3]]))\n",
    "    np_df[i, 3] = change(mean([np_df2013[c, 4], np_df2014[c, 4], np_df2015[c, 4]]), \n",
    "                         mean([np_df2014[c, 4], np_df2015[c, 4], np_df2016[c, 4]]))\n",
    "    np_df[i, 4] = change(mean([np_df2013[c, 5], np_df2014[c, 5], np_df2015[c, 5]]), \n",
    "                         mean([np_df2014[c, 5], np_df2015[c, 5], np_df2016[c, 5]]))\n",
    "    np_df[i, 5] = change(mean([np_df2013[c, 6], np_df2014[c, 6], np_df2015[c, 6]]), \n",
    "                         mean([np_df2014[c, 6], np_df2015[c, 6], np_df2016[c, 6]]))\n",
    "    np_df[i, 6] = change(mean([np_df2013[c, 7], np_df2014[c, 7], np_df2015[c, 7]]), \n",
    "                         mean([np_df2014[c, 7], np_df2015[c, 7], np_df2016[c, 7]]))\n",
    "    c=c+1\n",
    "    \n",
    "    \n",
    "    \n",
    "    \n",
    "#2017\n",
    "c=0\n",
    "for i in range(i+1, len(df[\"Bank\"].unique())+i+1):\n",
    "    np_df[i, 0] = np_df1[i, 0] +\" \"+ str(np_df1[i, 1])\n",
    "    np_df[i, 1] = change(mean([np_df2014[c, 2], np_df2015[c, 2], np_df2016[c, 2]]), \n",
    "                         mean([np_df2015[c, 2], np_df2016[c, 2], np_df2017[c, 2]]))\n",
    "    np_df[i, 2] = change(mean([np_df2014[c, 3], np_df2015[c, 3], np_df2016[c, 3]]),\n",
    "                         mean([np_df2015[c, 3], np_df2016[c, 3], np_df2017[c, 3]]))\n",
    "    np_df[i, 3] = change(mean([np_df2014[c, 4], np_df2015[c, 4], np_df2016[c, 4]]), \n",
    "                         mean([np_df2015[c, 4], np_df2016[c, 4], np_df2017[c, 4]]))\n",
    "    np_df[i, 4] = change(mean([np_df2014[c, 5], np_df2015[c, 5], np_df2016[c, 5]]), \n",
    "                         mean([np_df2015[c, 5], np_df2016[c, 5], np_df2017[c, 5]]))\n",
    "    np_df[i, 5] = change(mean([np_df2014[c, 6], np_df2015[c, 6], np_df2016[c, 6]]), \n",
    "                         mean([np_df2016[c, 6], np_df2017[c, 6]]))\n",
    "    np_df[i, 6] = change(mean([np_df2014[c, 7], np_df2015[c, 7], np_df2016[c, 7]]), \n",
    "                         mean([np_df2015[c, 7], np_df2016[c, 7], np_df2017[c, 7]]))\n",
    "    c=c+1\n",
    "    \n",
    "    \n",
    "    \n",
    "#2018\n",
    "c=0\n",
    "for i in range(i+1, len(df[\"Bank\"].unique())+i+1):\n",
    "    np_df[i, 0] = np_df1[i, 0] +\" \"+ str(np_df1[i, 1])\n",
    "    np_df[i, 1] = change(mean([np_df2015[c, 2], np_df2016[c, 2], np_df2017[c, 2]]), \n",
    "                         mean([np_df2016[c, 2], np_df2017[c, 2], np_df2018[c, 2]]))\n",
    "    np_df[i, 2] = change(mean([np_df2015[c, 3], np_df2016[c, 3], np_df2017[c, 3]]),\n",
    "                         mean([np_df2016[c, 3], np_df2017[c, 3], np_df2018[c, 3]]))\n",
    "    np_df[i, 3] = change(mean([np_df2015[c, 4], np_df2016[c, 4], np_df2017[c, 4]]), \n",
    "                         mean([np_df2016[c, 4], np_df2017[c, 4], np_df2018[c, 4]]))\n",
    "    np_df[i, 4] = change(mean([np_df2015[c, 5], np_df2016[c, 5], np_df2017[c, 5]]), \n",
    "                         mean([np_df2016[c, 5], np_df2017[c, 5], np_df2018[c, 5]]))\n",
    "    np_df[i, 5] = change(mean([np_df2015[c, 6], np_df2016[c, 6], np_df2017[c, 6]]), \n",
    "                         mean([np_df2016[c, 6], np_df2017[c, 6], np_df2018[c, 6]]))\n",
    "    np_df[i, 6] = change(mean([np_df2015[c, 7], np_df2016[c, 7], np_df2017[c, 7]]), \n",
    "                         mean([np_df2016[c, 7], np_df2017[c, 7], np_df2018[c, 7]]))\n",
    "    c=c+1"
   ]
  },
  {
   "cell_type": "code",
   "execution_count": 174,
   "metadata": {},
   "outputs": [],
   "source": [
    "df = pd.DataFrame(data=np_df,  columns=[\"Bank Year\", \"Deposits\", \"Loans and advances\", \"Investments\", \"NPA\", \"NPL %\", \"Profit\"])"
   ]
  },
  {
   "cell_type": "code",
   "execution_count": 175,
   "metadata": {},
   "outputs": [
    {
     "data": {
      "text/html": [
       "<div>\n",
       "<style scoped>\n",
       "    .dataframe tbody tr th:only-of-type {\n",
       "        vertical-align: middle;\n",
       "    }\n",
       "\n",
       "    .dataframe tbody tr th {\n",
       "        vertical-align: top;\n",
       "    }\n",
       "\n",
       "    .dataframe thead th {\n",
       "        text-align: right;\n",
       "    }\n",
       "</style>\n",
       "<table border=\"1\" class=\"dataframe\">\n",
       "  <thead>\n",
       "    <tr style=\"text-align: right;\">\n",
       "      <th></th>\n",
       "      <th>Bank Year</th>\n",
       "      <th>Deposits</th>\n",
       "      <th>Loans and advances</th>\n",
       "      <th>Investments</th>\n",
       "      <th>NPA</th>\n",
       "      <th>NPL %</th>\n",
       "      <th>Profit</th>\n",
       "    </tr>\n",
       "  </thead>\n",
       "  <tbody>\n",
       "    <tr>\n",
       "      <th>0</th>\n",
       "      <td>Prime Bank 2014</td>\n",
       "      <td>2</td>\n",
       "      <td>2</td>\n",
       "      <td>1</td>\n",
       "      <td>1</td>\n",
       "      <td>1</td>\n",
       "      <td>1</td>\n",
       "    </tr>\n",
       "    <tr>\n",
       "      <th>1</th>\n",
       "      <td>AB Bank 2014</td>\n",
       "      <td>1</td>\n",
       "      <td>1</td>\n",
       "      <td>2</td>\n",
       "      <td>3</td>\n",
       "      <td>1</td>\n",
       "      <td>1</td>\n",
       "    </tr>\n",
       "    <tr>\n",
       "      <th>2</th>\n",
       "      <td>Dhaka Bank 2014</td>\n",
       "      <td>2</td>\n",
       "      <td>2</td>\n",
       "      <td>2</td>\n",
       "      <td>1</td>\n",
       "      <td>1</td>\n",
       "      <td>2</td>\n",
       "    </tr>\n",
       "    <tr>\n",
       "      <th>3</th>\n",
       "      <td>DBBL 2014</td>\n",
       "      <td>1</td>\n",
       "      <td>1</td>\n",
       "      <td>1</td>\n",
       "      <td>2</td>\n",
       "      <td>1</td>\n",
       "      <td>1</td>\n",
       "    </tr>\n",
       "    <tr>\n",
       "      <th>4</th>\n",
       "      <td>City Bank 2014</td>\n",
       "      <td>1</td>\n",
       "      <td>1</td>\n",
       "      <td>2</td>\n",
       "      <td>3</td>\n",
       "      <td>3</td>\n",
       "      <td>1</td>\n",
       "    </tr>\n",
       "  </tbody>\n",
       "</table>\n",
       "</div>"
      ],
      "text/plain": [
       "         Bank Year Deposits Loans and advances Investments NPA NPL % Profit\n",
       "0  Prime Bank 2014        2                  2           1   1     1      1\n",
       "1     AB Bank 2014        1                  1           2   3     1      1\n",
       "2  Dhaka Bank 2014        2                  2           2   1     1      2\n",
       "3        DBBL 2014        1                  1           1   2     1      1\n",
       "4   City Bank 2014        1                  1           2   3     3      1"
      ]
     },
     "execution_count": 175,
     "metadata": {},
     "output_type": "execute_result"
    }
   ],
   "source": [
    "df.head()"
   ]
  },
  {
   "cell_type": "code",
   "execution_count": 176,
   "metadata": {},
   "outputs": [],
   "source": [
    "features = [\"Deposits\", \"Loans and advances\", \"Investments\", \"NPA\", \"NPL %\"]\n",
    "X = pd.get_dummies(df[features])\n",
    "y = df.Profit.copy()\n",
    "y=y.astype('int')"
   ]
  },
  {
   "cell_type": "code",
   "execution_count": 177,
   "metadata": {},
   "outputs": [],
   "source": [
    "X_train, X_test, y_train, y_test = train_test_split(X, y, test_size = 0.2, random_state=42, stratify=y)"
   ]
  },
  {
   "cell_type": "code",
   "execution_count": null,
   "metadata": {},
   "outputs": [],
   "source": []
  },
  {
   "cell_type": "code",
   "execution_count": 178,
   "metadata": {},
   "outputs": [],
   "source": [
    "neighbors = np.arange(1, 9)\n",
    "train_accuracy = np.empty(len(neighbors))\n",
    "test_accuracy = np.empty(len(neighbors))\n",
    "for i, k in enumerate(neighbors):\n",
    "    knn = KNeighborsClassifier(n_neighbors=k)\n",
    "    knn.fit(X_train, y_train)\n",
    "    train_accuracy[i] = knn.score(X_train, y_train)\n",
    "    test_accuracy[i] = knn.score(X_test, y_test)"
   ]
  },
  {
   "cell_type": "code",
   "execution_count": 179,
   "metadata": {},
   "outputs": [
    {
     "data": {
      "text/plain": [
       "array([0.3, 0.4, 0.6, 0.7, 0.6, 0.6, 0.8, 0.6])"
      ]
     },
     "execution_count": 179,
     "metadata": {},
     "output_type": "execute_result"
    }
   ],
   "source": [
    "test_accuracy"
   ]
  },
  {
   "cell_type": "code",
   "execution_count": 180,
   "metadata": {},
   "outputs": [],
   "source": [
    "n=np.where(test_accuracy == min(test_accuracy))"
   ]
  },
  {
   "cell_type": "code",
   "execution_count": 181,
   "metadata": {},
   "outputs": [
    {
     "data": {
      "text/plain": [
       "(array([0]),)"
      ]
     },
     "execution_count": 181,
     "metadata": {},
     "output_type": "execute_result"
    }
   ],
   "source": [
    "n"
   ]
  },
  {
   "cell_type": "code",
   "execution_count": 182,
   "metadata": {},
   "outputs": [
    {
     "data": {
      "image/png": "[encoded data removed]",
      "text/plain": [
       "<Figure size 432x288 with 1 Axes>"
      ]
     },
     "metadata": {
      "needs_background": "light"
     },
     "output_type": "display_data"
    }
   ],
   "source": [
    "plt.title('k-NN: Varying Number of Neighbors')\n",
    "plt.plot(neighbors, test_accuracy, label = 'Testing Accuracy')\n",
    "plt.plot(neighbors, train_accuracy, label = 'Training Accuracy')\n",
    "plt.legend()\n",
    "plt.xlabel('Number of Neighbors')\n",
    "plt.ylabel('Accuracy')\n",
    "plt.show()"
   ]
  },
  {
   "cell_type": "code",
   "execution_count": 183,
   "metadata": {},
   "outputs": [
    {
     "data": {
      "text/plain": [
       "KNeighborsClassifier(algorithm='auto', leaf_size=30, metric='minkowski',\n",
       "                     metric_params=None, n_jobs=None, n_neighbors=7, p=2,\n",
       "                     weights='uniform')"
      ]
     },
     "execution_count": 183,
     "metadata": {},
     "output_type": "execute_result"
    }
   ],
   "source": [
    "n=np.where(test_accuracy == max(test_accuracy))\n",
    "knn = KNeighborsClassifier(n_neighbors=n[0][0]+1)\n",
    "knn.fit(X_train, y_train)"
   ]
  },
  {
   "cell_type": "code",
   "execution_count": 184,
   "metadata": {},
   "outputs": [],
   "source": [
    "depth = np.arange(1, 9)\n",
    "train_accuracy = np.empty(len(depth))\n",
    "test_accuracy = np.empty(len(depth))\n",
    "for i, k in enumerate(depth):\n",
    "    ran = RandomForestClassifier(n_estimators=100, max_depth=k, random_state=1)\n",
    "    ran.fit(X_train, y_train)\n",
    "    train_accuracy[i] = ran.score(X_train, y_train)\n",
    "    test_accuracy[i] = ran.score(X_test, y_test)"
   ]
  },
  {
   "cell_type": "code",
   "execution_count": null,
   "metadata": {},
   "outputs": [],
   "source": []
  },
  {
   "cell_type": "code",
   "execution_count": null,
   "metadata": {},
   "outputs": [],
   "source": []
  },
  {
   "cell_type": "code",
   "execution_count": 185,
   "metadata": {},
   "outputs": [
    {
     "data": {
      "image/png": "[encoded data removed]",
      "text/plain": [
       "<Figure size 432x288 with 1 Axes>"
      ]
     },
     "metadata": {
      "needs_background": "light"
     },
     "output_type": "display_data"
    }
   ],
   "source": [
    "plt.title('Random: Varying Number of Max Depth')\n",
    "plt.plot(depth, test_accuracy, label = 'Testing Accuracy')\n",
    "plt.plot(depth, train_accuracy, label = 'Training Accuracy')\n",
    "plt.legend()\n",
    "plt.xlabel('Number of Max Depth')\n",
    "plt.ylabel('Accuracy')\n",
    "plt.show()"
   ]
  },
  {
   "cell_type": "code",
   "execution_count": 186,
   "metadata": {},
   "outputs": [
    {
     "data": {
      "text/plain": [
       "RandomForestClassifier(bootstrap=True, ccp_alpha=0.0, class_weight=None,\n",
       "                       criterion='gini', max_depth=1, max_features='auto',\n",
       "                       max_leaf_nodes=None, max_samples=None,\n",
       "                       min_impurity_decrease=0.0, min_impurity_split=None,\n",
       "                       min_samples_leaf=1, min_samples_split=2,\n",
       "                       min_weight_fraction_leaf=0.0, n_estimators=100,\n",
       "                       n_jobs=None, oob_score=False, random_state=1, verbose=0,\n",
       "                       warm_start=False)"
      ]
     },
     "execution_count": 186,
     "metadata": {},
     "output_type": "execute_result"
    }
   ],
   "source": [
    "n=np.where(test_accuracy == max(test_accuracy))\n",
    "ran = RandomForestClassifier(n_estimators=100, max_depth=n[0][0]+1, random_state=1)\n",
    "ran.fit(X_train, y_train)"
   ]
  },
  {
   "cell_type": "code",
   "execution_count": 187,
   "metadata": {},
   "outputs": [
    {
     "data": {
      "text/plain": [
       "GaussianNB(priors=None, var_smoothing=1e-09)"
      ]
     },
     "execution_count": 187,
     "metadata": {},
     "output_type": "execute_result"
    }
   ],
   "source": [
    "gnb = GaussianNB()\n",
    "gnb.fit(X_train, y_train)"
   ]
  },
  {
   "cell_type": "code",
   "execution_count": null,
   "metadata": {},
   "outputs": [],
   "source": []
  },
  {
   "cell_type": "code",
   "execution_count": null,
   "metadata": {},
   "outputs": [],
   "source": []
  },
  {
   "cell_type": "code",
   "execution_count": null,
   "metadata": {},
   "outputs": [],
   "source": []
  },
  {
   "cell_type": "code",
   "execution_count": null,
   "metadata": {},
   "outputs": [],
   "source": []
  },
  {
   "cell_type": "code",
   "execution_count": null,
   "metadata": {},
   "outputs": [],
   "source": []
  },
  {
   "cell_type": "code",
   "execution_count": null,
   "metadata": {},
   "outputs": [],
   "source": []
  },
  {
   "cell_type": "code",
   "execution_count": 188,
   "metadata": {},
   "outputs": [
    {
     "name": "stdout",
     "output_type": "stream",
     "text": [
      "K Neighbors  0.8\n",
      "Random Forest Score:  0.7\n",
      "GaussianNB Score:  0.5\n"
     ]
    }
   ],
   "source": [
    "print(\"K Neighbors \",knn.score(X_test, y_test))\n",
    "print(\"Random Forest Score: \",ran.score(X_test, y_test))\n",
    "print(\"GaussianNB Score: \",gnb.score(X_test, y_test))"
   ]
  },
  {
   "cell_type": "code",
   "execution_count": null,
   "metadata": {},
   "outputs": [],
   "source": []
  },
  {
   "cell_type": "code",
   "execution_count": null,
   "metadata": {},
   "outputs": [],
   "source": []
  },
  {
   "cell_type": "code",
   "execution_count": null,
   "metadata": {},
   "outputs": [],
   "source": []
  },
  {
   "cell_type": "code",
   "execution_count": 189,
   "metadata": {},
   "outputs": [
    {
     "name": "stdout",
     "output_type": "stream",
     "text": [
      "SGD Score:  0.5\n"
     ]
    },
    {
     "name": "stderr",
     "output_type": "stream",
     "text": [
      "/home/rafs/anaconda3/lib/python3.7/site-packages/sklearn/linear_model/_stochastic_gradient.py:557: ConvergenceWarning: Maximum number of iteration reached before convergence. Consider increasing max_iter to improve the fit.\n",
      "  ConvergenceWarning)\n"
     ]
    }
   ],
   "source": [
    "from sklearn.linear_model import SGDClassifier\n",
    "clf = SGDClassifier(loss=\"hinge\", penalty=\"l2\", max_iter=5)\n",
    "clf.fit(X_train, y_train)\n",
    "print(\"SGD Score: \",clf.score(X_test, y_test))"
   ]
  },
  {
   "cell_type": "code",
   "execution_count": 190,
   "metadata": {},
   "outputs": [
    {
     "name": "stdout",
     "output_type": "stream",
     "text": [
      "Bagging Score:  0.6\n"
     ]
    }
   ],
   "source": [
    "from sklearn.ensemble import BaggingClassifier\n",
    "from sklearn.neighbors import KNeighborsClassifier\n",
    "bagging = BaggingClassifier(KNeighborsClassifier(), max_samples=0.5, max_features=0.5)\n",
    "\n",
    "bagging.fit(X_train, y_train)\n",
    "print(\"Bagging Score: \",bagging.score(X_test, y_test))"
   ]
  },
  {
   "cell_type": "code",
   "execution_count": null,
   "metadata": {},
   "outputs": [],
   "source": []
  },
  {
   "cell_type": "code",
   "execution_count": null,
   "metadata": {},
   "outputs": [],
   "source": []
  },
  {
   "cell_type": "code",
   "execution_count": 191,
   "metadata": {},
   "outputs": [
    {
     "name": "stdout",
     "output_type": "stream",
     "text": [
      "NN Score:  0.3\n"
     ]
    },
    {
     "name": "stderr",
     "output_type": "stream",
     "text": [
      "/home/rafs/anaconda3/lib/python3.7/site-packages/sklearn/neural_network/_multilayer_perceptron.py:470: ConvergenceWarning: lbfgs failed to converge (status=1):\n",
      "STOP: TOTAL NO. of ITERATIONS REACHED LIMIT.\n",
      "\n",
      "Increase the number of iterations (max_iter) or scale the data as shown in:\n",
      "    https://scikit-learn.org/stable/modules/preprocessing.html\n",
      "  self.n_iter_ = _check_optimize_result(\"lbfgs\", opt_res, self.max_iter)\n"
     ]
    }
   ],
   "source": [
    "from sklearn.neural_network import MLPClassifier\n",
    "clf = MLPClassifier(solver='lbfgs', alpha=1e-5, hidden_layer_sizes=(5, 2), random_state=1)\n",
    "clf.fit(X_train, y_train)\n",
    "print(\"NN Score: \",clf.score(X_test, y_test))"
   ]
  },
  {
   "cell_type": "code",
   "execution_count": null,
   "metadata": {},
   "outputs": [],
   "source": []
  },
  {
   "cell_type": "code",
   "execution_count": null,
   "metadata": {},
   "outputs": [],
   "source": []
  },
  {
   "cell_type": "code",
   "execution_count": 198,
   "metadata": {},
   "outputs": [
    {
     "data": {
      "text/plain": [
       "0.6"
      ]
     },
     "execution_count": 198,
     "metadata": {},
     "output_type": "execute_result"
    }
   ],
   "source": [
    "from sklearn import datasets\n",
    "from sklearn.multiclass import OneVsOneClassifier\n",
    "from sklearn.svm import LinearSVC\n",
    "OneVsOneClassifier(LinearSVC(random_state=0)).fit(X_train, y_train).score(X_test, y_test)\\"
   ]
  },
  {
   "cell_type": "code",
   "execution_count": null,
   "metadata": {},
   "outputs": [],
   "source": []
  },
  {
   "cell_type": "code",
   "execution_count": null,
   "metadata": {},
   "outputs": [],
   "source": []
  },
  {
   "cell_type": "code",
   "execution_count": 204,
   "metadata": {},
   "outputs": [
    {
     "data": {
      "text/plain": [
       "False"
      ]
     },
     "execution_count": 204,
     "metadata": {},
     "output_type": "execute_result"
    }
   ],
   "source": [
    "from sklearn.model_selection import cross_val_score\n",
    "from sklearn.datasets import make_blobs\n",
    "from sklearn.ensemble import RandomForestClassifier\n",
    "from sklearn.ensemble import ExtraTreesClassifier\n",
    "from sklearn.tree import DecisionTreeClassifier\n",
    "\n",
    "X, y = make_blobs(n_samples=10000, n_features=10, centers=100,random_state=0)\n",
    "\n",
    "clf = DecisionTreeClassifier(max_depth=None, min_samples_split=2, random_state=0)\n",
    "scores = cross_val_score(clf, X_train, y_train, cv=5)\n",
    "scores.mean()\n",
    "\n",
    "\n",
    "clf = RandomForestClassifier(n_estimators=10, max_depth=None, min_samples_split=2, random_state=0)\n",
    "scores = cross_val_score(clf, X_train, y_train, cv=5)\n",
    "scores.mean()\n",
    "\n",
    "\n",
    "clf = ExtraTreesClassifier(n_estimators=10, max_depth=None, min_samples_split=2, random_state=0)\n",
    "scores = cross_val_score(clf, X_train, y_train, cv=5)\n",
    "scores.mean() > 0.999"
   ]
  },
  {
   "cell_type": "code",
   "execution_count": 200,
   "metadata": {},
   "outputs": [
    {
     "data": {
      "text/plain": [
       "0.375"
      ]
     },
     "execution_count": 200,
     "metadata": {},
     "output_type": "execute_result"
    }
   ],
   "source": [
    "clf = DecisionTreeClassifier(max_depth=None, min_samples_split=2, random_state=0)\n",
    "scores = cross_val_score(clf, X_train, y_train, cv=5)\n",
    "scores.mean()"
   ]
  },
  {
   "cell_type": "code",
   "execution_count": 201,
   "metadata": {},
   "outputs": [
    {
     "data": {
      "text/plain": [
       "0.4"
      ]
     },
     "execution_count": 201,
     "metadata": {},
     "output_type": "execute_result"
    }
   ],
   "source": [
    "clf = RandomForestClassifier(n_estimators=10, max_depth=None, min_samples_split=2, random_state=0)\n",
    "scores = cross_val_score(clf, X_train, y_train, cv=5)\n",
    "scores.mean()"
   ]
  },
  {
   "cell_type": "code",
   "execution_count": 202,
   "metadata": {},
   "outputs": [
    {
     "data": {
      "text/plain": [
       "0.35"
      ]
     },
     "execution_count": 202,
     "metadata": {},
     "output_type": "execute_result"
    }
   ],
   "source": [
    "clf = ExtraTreesClassifier(n_estimators=10, max_depth=None, min_samples_split=2, random_state=0)\n",
    "scores = cross_val_score(clf, X_train, y_train, cv=5)\n",
    "scores.mean()"
   ]
  },
  {
   "cell_type": "code",
   "execution_count": null,
   "metadata": {},
   "outputs": [],
   "source": []
  }
 ],
 "metadata": {
  "kernelspec": {
   "display_name": "Python 3",
   "language": "python",
   "name": "python3"
  },
  "language_info": {
   "codemirror_mode": {
    "name": "ipython",
    "version": 3
   },
   "file_extension": ".py",
   "mimetype": "text/x-python",
   "name": "python",
   "nbconvert_exporter": "python",
   "pygments_lexer": "ipython3",
   "version": "3.7.4"
  }
 },
 "nbformat": 4,
 "nbformat_minor": 4
}
