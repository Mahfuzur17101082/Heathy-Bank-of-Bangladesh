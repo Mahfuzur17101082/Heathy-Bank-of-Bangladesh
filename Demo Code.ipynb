{
 "cells": [
  {
   "cell_type": "code",
   "execution_count": 24,
   "metadata": {},
   "outputs": [],
   "source": [
    "import numpy as np\n",
    "import pandas as pd\n",
    "import seaborn as sns\n",
    "import matplotlib.pyplot as plt\n",
    "from statistics import mean \n",
    "from sklearn.ensemble import RandomForestClassifier\n",
    "from sklearn.neighbors import KNeighborsClassifier\n",
    "from sklearn.naive_bayes import GaussianNB\n",
    "from sklearn.model_selection import train_test_split\n",
    "from keras.models import Sequential\n",
    "from keras.layers import Dense"
   ]
  },
  {
   "cell_type": "code",
   "execution_count": 25,
   "metadata": {},
   "outputs": [],
   "source": [
    "df = pd.read_excel('testing.xlsx')"
   ]
  },
  {
   "cell_type": "code",
   "execution_count": 26,
   "metadata": {},
   "outputs": [
    {
     "data": {
      "text/html": [
       "<div>\n",
       "<style scoped>\n",
       "    .dataframe tbody tr th:only-of-type {\n",
       "        vertical-align: middle;\n",
       "    }\n",
       "\n",
       "    .dataframe tbody tr th {\n",
       "        vertical-align: top;\n",
       "    }\n",
       "\n",
       "    .dataframe thead th {\n",
       "        text-align: right;\n",
       "    }\n",
       "</style>\n",
       "<table border=\"1\" class=\"dataframe\">\n",
       "  <thead>\n",
       "    <tr style=\"text-align: right;\">\n",
       "      <th></th>\n",
       "      <th>Bank</th>\n",
       "      <th>Year</th>\n",
       "      <th>Deposits</th>\n",
       "      <th>Loans and advances</th>\n",
       "      <th>Investments</th>\n",
       "      <th>NPA</th>\n",
       "      <th>NPL %</th>\n",
       "      <th>Profit</th>\n",
       "    </tr>\n",
       "  </thead>\n",
       "  <tbody>\n",
       "    <tr>\n",
       "      <th>0</th>\n",
       "      <td>Prime Bank</td>\n",
       "      <td>2013</td>\n",
       "      <td>201907.0</td>\n",
       "      <td>153589.0</td>\n",
       "      <td>56940.0</td>\n",
       "      <td>-48317.961281</td>\n",
       "      <td>5.09</td>\n",
       "      <td>1829.0</td>\n",
       "    </tr>\n",
       "    <tr>\n",
       "      <th>1</th>\n",
       "      <td>AB Bank</td>\n",
       "      <td>2013</td>\n",
       "      <td>161846.0</td>\n",
       "      <td>28676.0</td>\n",
       "      <td>28676.0</td>\n",
       "      <td>-133169.994029</td>\n",
       "      <td>3.37</td>\n",
       "      <td>1011.0</td>\n",
       "    </tr>\n",
       "    <tr>\n",
       "      <th>2</th>\n",
       "      <td>Dhaka Bank</td>\n",
       "      <td>2013</td>\n",
       "      <td>115981.0</td>\n",
       "      <td>99596.0</td>\n",
       "      <td>18757.0</td>\n",
       "      <td>-16384.964363</td>\n",
       "      <td>4.15</td>\n",
       "      <td>1927.0</td>\n",
       "    </tr>\n",
       "    <tr>\n",
       "      <th>3</th>\n",
       "      <td>DBBL</td>\n",
       "      <td>2013</td>\n",
       "      <td>145230.1</td>\n",
       "      <td>106422.8</td>\n",
       "      <td>17441.9</td>\n",
       "      <td>-38807.271421</td>\n",
       "      <td>3.90</td>\n",
       "      <td>2000.8</td>\n",
       "    </tr>\n",
       "    <tr>\n",
       "      <th>4</th>\n",
       "      <td>City Bank</td>\n",
       "      <td>2013</td>\n",
       "      <td>107497.0</td>\n",
       "      <td>89879.0</td>\n",
       "      <td>26492.0</td>\n",
       "      <td>-17617.932275</td>\n",
       "      <td>8.10</td>\n",
       "      <td>911.0</td>\n",
       "    </tr>\n",
       "  </tbody>\n",
       "</table>\n",
       "</div>"
      ],
      "text/plain": [
       "         Bank  Year  Deposits  Loans and advances  Investments            NPA  \\\n",
       "0  Prime Bank  2013  201907.0            153589.0      56940.0  -48317.961281   \n",
       "1     AB Bank  2013  161846.0             28676.0      28676.0 -133169.994029   \n",
       "2  Dhaka Bank  2013  115981.0             99596.0      18757.0  -16384.964363   \n",
       "3        DBBL  2013  145230.1            106422.8      17441.9  -38807.271421   \n",
       "4   City Bank  2013  107497.0             89879.0      26492.0  -17617.932275   \n",
       "\n",
       "   NPL %  Profit  \n",
       "0   5.09  1829.0  \n",
       "1   3.37  1011.0  \n",
       "2   4.15  1927.0  \n",
       "3   3.90  2000.8  \n",
       "4   8.10   911.0  "
      ]
     },
     "execution_count": 26,
     "metadata": {},
     "output_type": "execute_result"
    }
   ],
   "source": [
    "df.head()"
   ]
  },
  {
   "cell_type": "code",
   "execution_count": 27,
   "metadata": {},
   "outputs": [],
   "source": [
    "df1=df[[\"Bank\", \"Year\"]]\n",
    "df1=df1[(df1.Year != 2013)]\n",
    "df1.reset_index(inplace=True)\n",
    "df1=df1.drop(columns=[\"index\"])"
   ]
  },
  {
   "cell_type": "code",
   "execution_count": 28,
   "metadata": {},
   "outputs": [],
   "source": [
    "np_df=np.empty([len(df[\"Bank\"].unique())*(len(df[\"Year\"].unique())-1), df.shape[1]-1], dtype=object) \n",
    "np_df1=df1.to_numpy()"
   ]
  },
  {
   "cell_type": "code",
   "execution_count": 29,
   "metadata": {},
   "outputs": [],
   "source": [
    "df2013=df[(df.Year == 2013)]\n",
    "df2014=df[(df.Year == 2014)]\n",
    "df2015=df[(df.Year == 2015)]\n",
    "df2016=df[(df.Year == 2016)]\n",
    "df2017=df[(df.Year == 2017)]\n",
    "df2018=df[(df.Year == 2018)]\n",
    "\n",
    "np_df2013=df2013.to_numpy()\n",
    "np_df2014=df2014.to_numpy()\n",
    "np_df2015=df2015.to_numpy()\n",
    "np_df2016=df2016.to_numpy()\n",
    "np_df2017=df2017.to_numpy()\n",
    "np_df2018=df2018.to_numpy()"
   ]
  },
  {
   "cell_type": "code",
   "execution_count": 30,
   "metadata": {},
   "outputs": [],
   "source": [
    "def change(x, y):\n",
    "    if(x != 0):\n",
    "        i=((y-x)*100.0)/x\n",
    "        if(i>15.0):\n",
    "            return 1\n",
    "        elif(i<=15.0 and i>7.5):\n",
    "            return 2\n",
    "        elif(i<=7.5 and i>-7.5):\n",
    "            return 3\n",
    "        elif(i<=-7.5 and i>-15):\n",
    "            return 4\n",
    "        elif(i<-15.0):\n",
    "            return 5\n",
    "    else:\n",
    "        return 1"
   ]
  },
  {
   "cell_type": "code",
   "execution_count": 31,
   "metadata": {},
   "outputs": [
    {
     "data": {
      "text/plain": [
       "'def change(x, y):\\n    if(x != 0):\\n        i=((y-x)*100.0)/x\\n        if(i>0==0):\\n            return 1\\n        else:\\n            return 0\\n    else:\\n        return 0'"
      ]
     },
     "execution_count": 31,
     "metadata": {},
     "output_type": "execute_result"
    }
   ],
   "source": [
    "\"\"\"def change(x, y):\n",
    "    if(x != 0):\n",
    "        i=((y-x)*100.0)/x\n",
    "        if(i>0==0):\n",
    "            return 1\n",
    "        else:\n",
    "            return 0\n",
    "    else:\n",
    "        return 0\"\"\""
   ]
  },
  {
   "cell_type": "code",
   "execution_count": 32,
   "metadata": {},
   "outputs": [],
   "source": [
    "#2014\n",
    "for i in range(0, len(df[\"Bank\"].unique())):\n",
    "    np_df[i, 0] = np_df1[i, 0] +\" \"+ str(np_df1[i, 1])\n",
    "    np_df[i, 1] = change(np_df2013[i, 2], np_df2014[i, 2])\n",
    "    np_df[i, 2] = change(np_df2013[i, 3], np_df2014[i, 3])\n",
    "    np_df[i, 3] = change(np_df2013[i, 4], np_df2014[i, 4])\n",
    "    np_df[i, 4] = change(np_df2013[i, 5], np_df2014[i, 5])\n",
    "    np_df[i, 5] = change(np_df2013[i, 6], np_df2014[i, 6])\n",
    "    np_df[i, 6] = change(np_df2013[i, 7], np_df2014[i, 7])\n",
    " \n",
    "\n",
    "    \n",
    "#2015\n",
    "c=0\n",
    "for i in range(i+1, len(df[\"Bank\"].unique())+i+1):\n",
    "    np_df[i, 0] = np_df1[i, 0] +\" \"+ str(np_df1[i, 1])\n",
    "    np_df[i, 1] = change(mean([np_df2013[c, 2], np_df2014[c, 2]]) , mean([np_df2014[c, 2], np_df2015[c, 2]]))\n",
    "    np_df[i, 2] = change(mean([np_df2013[c, 3], np_df2014[c, 3]]) , mean([np_df2014[c, 3], np_df2015[c, 3]]))\n",
    "    np_df[i, 3] = change(mean([np_df2013[c, 4], np_df2014[c, 4]]) , mean([np_df2014[c, 4], np_df2015[c, 4]]))\n",
    "    np_df[i, 4] = change(mean([np_df2013[c, 5], np_df2014[c, 5]]) , mean([np_df2014[c, 5], np_df2015[c, 5]]))\n",
    "    np_df[i, 5] = change(mean([np_df2013[c, 6], np_df2014[c, 6]]) , mean([np_df2014[c, 6], np_df2015[c, 6]]))\n",
    "    np_df[i, 6] = change(mean([np_df2013[c, 7], np_df2014[c, 7]]) , mean([np_df2014[c, 7], np_df2015[c, 7]]))\n",
    "    c=c+1\n",
    "    \n",
    "    \n",
    "    \n",
    "#2016\n",
    "c=0\n",
    "for i in range(i+1, len(df[\"Bank\"].unique())+i+1):\n",
    "    np_df[i, 0] = np_df1[i, 0] +\" \"+ str(np_df1[i, 1])\n",
    "    np_df[i, 1] = change(mean([np_df2013[c, 2], np_df2014[c, 2], np_df2015[c, 2]]), \n",
    "                         mean([np_df2014[c, 2], np_df2015[c, 2], np_df2016[c, 2]]))\n",
    "    np_df[i, 2] = change(mean([np_df2013[c, 3], np_df2014[c, 3], np_df2015[c, 3]]),\n",
    "                         mean([np_df2014[c, 3], np_df2015[c, 3], np_df2016[c, 3]]))\n",
    "    np_df[i, 3] = change(mean([np_df2013[c, 4], np_df2014[c, 4], np_df2015[c, 4]]), \n",
    "                         mean([np_df2014[c, 4], np_df2015[c, 4], np_df2016[c, 4]]))\n",
    "    np_df[i, 4] = change(mean([np_df2013[c, 5], np_df2014[c, 5], np_df2015[c, 5]]), \n",
    "                         mean([np_df2014[c, 5], np_df2015[c, 5], np_df2016[c, 5]]))\n",
    "    np_df[i, 5] = change(mean([np_df2013[c, 6], np_df2014[c, 6], np_df2015[c, 6]]), \n",
    "                         mean([np_df2014[c, 6], np_df2015[c, 6], np_df2016[c, 6]]))\n",
    "    np_df[i, 6] = change(mean([np_df2013[c, 7], np_df2014[c, 7], np_df2015[c, 7]]), \n",
    "                         mean([np_df2014[c, 7], np_df2015[c, 7], np_df2016[c, 7]]))\n",
    "    c=c+1\n",
    "    \n",
    "    \n",
    "    \n",
    "    \n",
    "#2017\n",
    "c=0\n",
    "for i in range(i+1, len(df[\"Bank\"].unique())+i+1):\n",
    "    np_df[i, 0] = np_df1[i, 0] +\" \"+ str(np_df1[i, 1])\n",
    "    np_df[i, 1] = change(mean([np_df2013[c, 2], np_df2014[c, 2], np_df2015[c, 2], np_df2016[c, 2]]), \n",
    "                         mean([np_df2014[c, 2], np_df2015[c, 2], np_df2016[c, 2], np_df2017[c, 2]]))\n",
    "    np_df[i, 2] = change(mean([np_df2013[c, 3], np_df2014[c, 3], np_df2015[c, 3], np_df2016[c, 3]]),\n",
    "                         mean([np_df2014[c, 3], np_df2015[c, 3], np_df2016[c, 3], np_df2017[c, 3]]))\n",
    "    np_df[i, 3] = change(mean([np_df2013[c, 4], np_df2014[c, 4], np_df2015[c, 4], np_df2016[c, 4]]), \n",
    "                         mean([np_df2014[c, 4], np_df2015[c, 4], np_df2016[c, 4], np_df2017[c, 4]]))\n",
    "    np_df[i, 4] = change(mean([np_df2013[c, 5], np_df2014[c, 5], np_df2015[c, 5], np_df2016[c, 5]]), \n",
    "                         mean([np_df2014[c, 5], np_df2015[c, 5], np_df2016[c, 5], np_df2017[c, 5]]))\n",
    "    np_df[i, 5] = change(mean([np_df2013[c, 6], np_df2014[c, 6], np_df2015[c, 6], np_df2016[c, 6]]), \n",
    "                         mean([np_df2014[c, 6], np_df2015[c, 6], np_df2016[c, 6], np_df2017[c, 6]]))\n",
    "    np_df[i, 6] = change(mean([np_df2013[c, 7], np_df2014[c, 7], np_df2015[c, 7], np_df2016[c, 7]]), \n",
    "                         mean([np_df2014[c, 7], np_df2015[c, 7], np_df2016[c, 7], np_df2017[c, 7]]))\n",
    "    c=c+1\n",
    "    \n",
    "    \n",
    "    \n",
    "#2018\n",
    "c=0\n",
    "for i in range(i+1, len(df[\"Bank\"].unique())+i+1):\n",
    "    np_df[i, 0] = np_df1[i, 0] +\" \"+ str(np_df1[i, 1])\n",
    "    np_df[i, 1] = change(mean([np_df2013[c, 2], np_df2014[c, 2], np_df2015[c, 2], np_df2016[c, 2], np_df2017[c, 2]]), \n",
    "                         mean([np_df2014[c, 2], np_df2015[c, 2], np_df2016[c, 2], np_df2017[c, 2], np_df2018[c, 2]]))\n",
    "    np_df[i, 2] = change(mean([np_df2013[c, 3], np_df2014[c, 3], np_df2015[c, 3], np_df2016[c, 3], np_df2017[c, 3]]),\n",
    "                         mean([np_df2014[c, 3], np_df2015[c, 3], np_df2016[c, 3], np_df2017[c, 3], np_df2018[c, 3]]))\n",
    "    np_df[i, 3] = change(mean([np_df2013[c, 4], np_df2014[c, 4], np_df2015[c, 4], np_df2016[c, 4], np_df2017[c, 4]]), \n",
    "                         mean([np_df2014[c, 4], np_df2015[c, 4], np_df2016[c, 4], np_df2017[c, 4], np_df2018[c, 4]]))\n",
    "    np_df[i, 4] = change(mean([np_df2013[c, 5], np_df2014[c, 5], np_df2015[c, 5], np_df2016[c, 5], np_df2017[c, 5]]), \n",
    "                         mean([np_df2014[c, 5], np_df2015[c, 5], np_df2016[c, 5], np_df2017[c, 5], np_df2018[c, 5]]))\n",
    "    np_df[i, 5] = change(mean([np_df2013[c, 6], np_df2014[c, 6], np_df2015[c, 6], np_df2016[c, 6], np_df2017[c, 6]]), \n",
    "                         mean([np_df2014[c, 6], np_df2015[c, 6], np_df2016[c, 6], np_df2017[c, 6], np_df2018[c, 6]]))\n",
    "    np_df[i, 6] = change(mean([np_df2013[c, 7], np_df2014[c, 7], np_df2015[c, 7], np_df2016[c, 7], np_df2017[c, 7]]), \n",
    "                         mean([np_df2014[c, 7], np_df2015[c, 7], np_df2016[c, 7], np_df2017[c, 7], np_df2018[c, 7]]))\n",
    "    c=c+1"
   ]
  },
  {
   "cell_type": "code",
   "execution_count": 33,
   "metadata": {},
   "outputs": [],
   "source": [
    "df = pd.DataFrame(data=np_df,  columns=[\"Bank Year\", \"Deposits\", \"Loans and advances\", \"Investments\", \"NPA\", \"NPL %\", \"Profit\"])"
   ]
  },
  {
   "cell_type": "code",
   "execution_count": 34,
   "metadata": {},
   "outputs": [
    {
     "data": {
      "text/html": [
       "<div>\n",
       "<style scoped>\n",
       "    .dataframe tbody tr th:only-of-type {\n",
       "        vertical-align: middle;\n",
       "    }\n",
       "\n",
       "    .dataframe tbody tr th {\n",
       "        vertical-align: top;\n",
       "    }\n",
       "\n",
       "    .dataframe thead th {\n",
       "        text-align: right;\n",
       "    }\n",
       "</style>\n",
       "<table border=\"1\" class=\"dataframe\">\n",
       "  <thead>\n",
       "    <tr style=\"text-align: right;\">\n",
       "      <th></th>\n",
       "      <th>Bank Year</th>\n",
       "      <th>Deposits</th>\n",
       "      <th>Loans and advances</th>\n",
       "      <th>Investments</th>\n",
       "      <th>NPA</th>\n",
       "      <th>NPL %</th>\n",
       "      <th>Profit</th>\n",
       "    </tr>\n",
       "  </thead>\n",
       "  <tbody>\n",
       "    <tr>\n",
       "      <th>0</th>\n",
       "      <td>Prime Bank 2014</td>\n",
       "      <td>3</td>\n",
       "      <td>3</td>\n",
       "      <td>1</td>\n",
       "      <td>1</td>\n",
       "      <td>1</td>\n",
       "      <td>1</td>\n",
       "    </tr>\n",
       "    <tr>\n",
       "      <th>1</th>\n",
       "      <td>AB Bank 2014</td>\n",
       "      <td>1</td>\n",
       "      <td>1</td>\n",
       "      <td>3</td>\n",
       "      <td>5</td>\n",
       "      <td>2</td>\n",
       "      <td>1</td>\n",
       "    </tr>\n",
       "    <tr>\n",
       "      <th>2</th>\n",
       "      <td>Dhaka Bank 2014</td>\n",
       "      <td>2</td>\n",
       "      <td>3</td>\n",
       "      <td>3</td>\n",
       "      <td>1</td>\n",
       "      <td>1</td>\n",
       "      <td>3</td>\n",
       "    </tr>\n",
       "    <tr>\n",
       "      <th>3</th>\n",
       "      <td>DBBL 2014</td>\n",
       "      <td>2</td>\n",
       "      <td>1</td>\n",
       "      <td>2</td>\n",
       "      <td>2</td>\n",
       "      <td>2</td>\n",
       "      <td>2</td>\n",
       "    </tr>\n",
       "    <tr>\n",
       "      <th>4</th>\n",
       "      <td>City Bank 2014</td>\n",
       "      <td>2</td>\n",
       "      <td>1</td>\n",
       "      <td>2</td>\n",
       "      <td>5</td>\n",
       "      <td>5</td>\n",
       "      <td>1</td>\n",
       "    </tr>\n",
       "  </tbody>\n",
       "</table>\n",
       "</div>"
      ],
      "text/plain": [
       "         Bank Year Deposits Loans and advances Investments NPA NPL % Profit\n",
       "0  Prime Bank 2014        3                  3           1   1     1      1\n",
       "1     AB Bank 2014        1                  1           3   5     2      1\n",
       "2  Dhaka Bank 2014        2                  3           3   1     1      3\n",
       "3        DBBL 2014        2                  1           2   2     2      2\n",
       "4   City Bank 2014        2                  1           2   5     5      1"
      ]
     },
     "execution_count": 34,
     "metadata": {},
     "output_type": "execute_result"
    }
   ],
   "source": [
    "df.head()"
   ]
  },
  {
   "cell_type": "code",
   "execution_count": 35,
   "metadata": {},
   "outputs": [],
   "source": [
    "features = [\"Deposits\", \"Loans and advances\", \"Investments\", \"NPA\", \"NPL %\"]\n",
    "X = pd.get_dummies(df[features])\n",
    "y = df.Profit.copy()\n",
    "y=y.astype('int')"
   ]
  },
  {
   "cell_type": "code",
   "execution_count": 36,
   "metadata": {},
   "outputs": [],
   "source": [
    "X_train, X_test, y_train, y_test = train_test_split(X, y, test_size = 0.2, random_state=42, stratify=y)"
   ]
  },
  {
   "cell_type": "code",
   "execution_count": 37,
   "metadata": {},
   "outputs": [],
   "source": [
    "neighbors = np.arange(1, 9)\n",
    "train_accuracy = np.empty(len(neighbors))\n",
    "test_accuracy = np.empty(len(neighbors))\n",
    "for i, k in enumerate(neighbors):\n",
    "    knn = KNeighborsClassifier(n_neighbors=k)\n",
    "    knn.fit(X_train, y_train)\n",
    "    train_accuracy[i] = knn.score(X_train, y_train)\n",
    "    test_accuracy[i] = knn.score(X_test, y_test)\n"
   ]
  },
  {
   "cell_type": "code",
   "execution_count": 38,
   "metadata": {},
   "outputs": [
    {
     "data": {
      "image/png": "[encoded data removed]",
      "text/plain": [
       "<Figure size 432x288 with 1 Axes>"
      ]
     },
     "metadata": {
      "needs_background": "light"
     },
     "output_type": "display_data"
    }
   ],
   "source": [
    "plt.title('k-NN: Varying Number of Neighbors')\n",
    "plt.plot(neighbors, test_accuracy, label = 'Testing Accuracy')\n",
    "plt.plot(neighbors, train_accuracy, label = 'Training Accuracy')\n",
    "plt.legend()\n",
    "plt.xlabel('Number of Neighbors')\n",
    "plt.ylabel('Accuracy')\n",
    "plt.show()"
   ]
  },
  {
   "cell_type": "code",
   "execution_count": 39,
   "metadata": {},
   "outputs": [
    {
     "data": {
      "text/plain": [
       "KNeighborsClassifier(algorithm='auto', leaf_size=30, metric='minkowski',\n",
       "                     metric_params=None, n_jobs=None, n_neighbors=3, p=2,\n",
       "                     weights='uniform')"
      ]
     },
     "execution_count": 39,
     "metadata": {},
     "output_type": "execute_result"
    }
   ],
   "source": [
    "knn = KNeighborsClassifier(n_neighbors=3)\n",
    "knn.fit(X_train, y_train)"
   ]
  },
  {
   "cell_type": "code",
   "execution_count": 40,
   "metadata": {},
   "outputs": [],
   "source": [
    "depth = np.arange(1, 9)\n",
    "train_accuracy = np.empty(len(depth))\n",
    "test_accuracy = np.empty(len(depth))\n",
    "for i, k in enumerate(depth):\n",
    "    ran = RandomForestClassifier(n_estimators=100, max_depth=k, random_state=1)\n",
    "    ran.fit(X_train, y_train)\n",
    "    train_accuracy[i] = ran.score(X_train, y_train)\n",
    "    test_accuracy[i] = ran.score(X_test, y_test)"
   ]
  },
  {
   "cell_type": "code",
   "execution_count": 41,
   "metadata": {},
   "outputs": [
    {
     "data": {
      "image/png": "[encoded data removed]",
      "text/plain": [
       "<Figure size 432x288 with 1 Axes>"
      ]
     },
     "metadata": {
      "needs_background": "light"
     },
     "output_type": "display_data"
    }
   ],
   "source": [
    "plt.title('Random: Varying Number of Neighbors')\n",
    "plt.plot(depth, test_accuracy, label = 'Testing Accuracy')\n",
    "plt.plot(depth, train_accuracy, label = 'Training Accuracy')\n",
    "plt.legend()\n",
    "plt.xlabel('Number of Neighbors')\n",
    "plt.ylabel('Accuracy')\n",
    "plt.show()"
   ]
  },
  {
   "cell_type": "code",
   "execution_count": 42,
   "metadata": {},
   "outputs": [
    {
     "data": {
      "text/plain": [
       "RandomForestClassifier(bootstrap=True, ccp_alpha=0.0, class_weight=None,\n",
       "                       criterion='gini', max_depth=3, max_features='auto',\n",
       "                       max_leaf_nodes=None, max_samples=None,\n",
       "                       min_impurity_decrease=0.0, min_impurity_split=None,\n",
       "                       min_samples_leaf=1, min_samples_split=2,\n",
       "                       min_weight_fraction_leaf=0.0, n_estimators=100,\n",
       "                       n_jobs=None, oob_score=False, random_state=1, verbose=0,\n",
       "                       warm_start=False)"
      ]
     },
     "execution_count": 42,
     "metadata": {},
     "output_type": "execute_result"
    }
   ],
   "source": [
    "ran = RandomForestClassifier(n_estimators=100, max_depth=3, random_state=1)\n",
    "ran.fit(X_train, y_train)"
   ]
  },
  {
   "cell_type": "code",
   "execution_count": 43,
   "metadata": {},
   "outputs": [
    {
     "data": {
      "text/plain": [
       "GaussianNB(priors=None, var_smoothing=1e-09)"
      ]
     },
     "execution_count": 43,
     "metadata": {},
     "output_type": "execute_result"
    }
   ],
   "source": [
    "gnb = GaussianNB()\n",
    "gnb.fit(X_train, y_train)"
   ]
  },
  {
   "cell_type": "code",
   "execution_count": 44,
   "metadata": {},
   "outputs": [],
   "source": [
    "model = Sequential()\n",
    "model.add(Dense(64, input_dim=21, activation='relu'))\n",
    "model.add(Dense(32, activation='relu'))\n",
    "model.add(Dense(16, activation='relu'))\n",
    "model.add(Dense(8, activation='relu'))\n",
    "model.add(Dense(4, activation='relu'))\n",
    "model.add(Dense(1, activation='sigmoid'))"
   ]
  },
  {
   "cell_type": "code",
   "execution_count": 45,
   "metadata": {},
   "outputs": [
    {
     "name": "stdout",
     "output_type": "stream",
     "text": [
      "Model: \"sequential_2\"\n",
      "_________________________________________________________________\n",
      "Layer (type)                 Output Shape              Param #   \n",
      "=================================================================\n",
      "dense_7 (Dense)              (None, 64)                1408      \n",
      "_________________________________________________________________\n",
      "dense_8 (Dense)              (None, 32)                2080      \n",
      "_________________________________________________________________\n",
      "dense_9 (Dense)              (None, 16)                528       \n",
      "_________________________________________________________________\n",
      "dense_10 (Dense)             (None, 8)                 136       \n",
      "_________________________________________________________________\n",
      "dense_11 (Dense)             (None, 4)                 36        \n",
      "_________________________________________________________________\n",
      "dense_12 (Dense)             (None, 1)                 5         \n",
      "=================================================================\n",
      "Total params: 4,193\n",
      "Trainable params: 4,193\n",
      "Non-trainable params: 0\n",
      "_________________________________________________________________\n"
     ]
    }
   ],
   "source": [
    "model.summary()"
   ]
  },
  {
   "cell_type": "code",
   "execution_count": 46,
   "metadata": {},
   "outputs": [
    {
     "name": "stdout",
     "output_type": "stream",
     "text": [
      "Epoch 1/150\n",
      "40/40 [==============================] - 1s 26ms/step - loss: 1.4056 - accuracy: 0.0000e+00\n",
      "Epoch 2/150\n",
      "40/40 [==============================] - 0s 1ms/step - loss: 1.0965 - accuracy: 0.0000e+00\n",
      "Epoch 3/150\n",
      "40/40 [==============================] - 0s 1ms/step - loss: 0.9072 - accuracy: 0.0000e+00\n",
      "Epoch 4/150\n",
      "40/40 [==============================] - 0s 1ms/step - loss: 0.8017 - accuracy: 0.0750\n",
      "Epoch 5/150\n",
      "40/40 [==============================] - 0s 1ms/step - loss: 0.7311 - accuracy: 0.1500\n",
      "Epoch 6/150\n",
      "40/40 [==============================] - 0s 914us/step - loss: 0.6901 - accuracy: 0.2500\n",
      "Epoch 7/150\n",
      "40/40 [==============================] - 0s 871us/step - loss: 0.6594 - accuracy: 0.2500\n",
      "Epoch 8/150\n",
      "40/40 [==============================] - 0s 1ms/step - loss: 0.6456 - accuracy: 0.2750\n",
      "Epoch 9/150\n",
      "40/40 [==============================] - 0s 1ms/step - loss: 0.6339 - accuracy: 0.3000\n",
      "Epoch 10/150\n",
      "40/40 [==============================] - 0s 1ms/step - loss: 0.6234 - accuracy: 0.3000\n",
      "Epoch 11/150\n",
      "40/40 [==============================] - 0s 1ms/step - loss: 0.6131 - accuracy: 0.3000\n",
      "Epoch 12/150\n",
      "40/40 [==============================] - 0s 896us/step - loss: 0.6018 - accuracy: 0.3000\n",
      "Epoch 13/150\n",
      "40/40 [==============================] - 0s 1ms/step - loss: 0.5883 - accuracy: 0.3000\n",
      "Epoch 14/150\n",
      "40/40 [==============================] - 0s 1ms/step - loss: 0.5754 - accuracy: 0.3000\n",
      "Epoch 15/150\n",
      "40/40 [==============================] - 0s 2ms/step - loss: 0.5600 - accuracy: 0.3000\n",
      "Epoch 16/150\n",
      "40/40 [==============================] - 0s 1ms/step - loss: 0.5453 - accuracy: 0.3000\n",
      "Epoch 17/150\n",
      "40/40 [==============================] - 0s 2ms/step - loss: 0.5282 - accuracy: 0.3000\n",
      "Epoch 18/150\n",
      "40/40 [==============================] - 0s 1ms/step - loss: 0.5122 - accuracy: 0.3000\n",
      "Epoch 19/150\n",
      "40/40 [==============================] - 0s 2ms/step - loss: 0.4961 - accuracy: 0.3000\n",
      "Epoch 20/150\n",
      "40/40 [==============================] - 0s 1ms/step - loss: 0.4808 - accuracy: 0.3000\n",
      "Epoch 21/150\n",
      "40/40 [==============================] - 0s 1ms/step - loss: 0.4634 - accuracy: 0.3000\n",
      "Epoch 22/150\n",
      "40/40 [==============================] - 0s 1ms/step - loss: 0.4455 - accuracy: 0.3000\n",
      "Epoch 23/150\n",
      "40/40 [==============================] - 0s 1ms/step - loss: 0.4267 - accuracy: 0.3000\n",
      "Epoch 24/150\n",
      "40/40 [==============================] - 0s 1ms/step - loss: 0.4070 - accuracy: 0.3000\n",
      "Epoch 25/150\n",
      "40/40 [==============================] - 0s 1ms/step - loss: 0.3875 - accuracy: 0.3000\n",
      "Epoch 26/150\n",
      "40/40 [==============================] - 0s 1ms/step - loss: 0.3660 - accuracy: 0.3000\n",
      "Epoch 27/150\n",
      "40/40 [==============================] - 0s 1ms/step - loss: 0.3418 - accuracy: 0.3000\n",
      "Epoch 28/150\n",
      "40/40 [==============================] - 0s 1ms/step - loss: 0.3161 - accuracy: 0.3000\n",
      "Epoch 29/150\n",
      "40/40 [==============================] - 0s 1ms/step - loss: 0.2874 - accuracy: 0.3000\n",
      "Epoch 30/150\n",
      "40/40 [==============================] - 0s 1ms/step - loss: 0.2538 - accuracy: 0.3000\n",
      "Epoch 31/150\n",
      "40/40 [==============================] - 0s 1ms/step - loss: 0.2181 - accuracy: 0.3000\n",
      "Epoch 32/150\n",
      "40/40 [==============================] - 0s 910us/step - loss: 0.1740 - accuracy: 0.3000\n",
      "Epoch 33/150\n",
      "40/40 [==============================] - 0s 1ms/step - loss: 0.1234 - accuracy: 0.3000\n",
      "Epoch 34/150\n",
      "40/40 [==============================] - 0s 2ms/step - loss: 0.0584 - accuracy: 0.3000\n",
      "Epoch 35/150\n",
      "40/40 [==============================] - 0s 2ms/step - loss: -0.0212 - accuracy: 0.3000\n",
      "Epoch 36/150\n",
      "40/40 [==============================] - 0s 1ms/step - loss: -0.1322 - accuracy: 0.3000\n",
      "Epoch 37/150\n",
      "40/40 [==============================] - 0s 1ms/step - loss: -0.2764 - accuracy: 0.3000\n",
      "Epoch 38/150\n",
      "40/40 [==============================] - 0s 1ms/step - loss: -0.4876 - accuracy: 0.3000\n",
      "Epoch 39/150\n",
      "40/40 [==============================] - 0s 1ms/step - loss: -0.7606 - accuracy: 0.3000\n",
      "Epoch 40/150\n",
      "40/40 [==============================] - 0s 1ms/step - loss: -1.1659 - accuracy: 0.3000\n",
      "Epoch 41/150\n",
      "40/40 [==============================] - 0s 1ms/step - loss: -1.6870 - accuracy: 0.3000\n",
      "Epoch 42/150\n",
      "40/40 [==============================] - 0s 2ms/step - loss: -2.3735 - accuracy: 0.3000\n",
      "Epoch 43/150\n",
      "40/40 [==============================] - 0s 997us/step - loss: -3.3414 - accuracy: 0.3000\n",
      "Epoch 44/150\n",
      "40/40 [==============================] - 0s 511us/step - loss: -4.5965 - accuracy: 0.3000\n",
      "Epoch 45/150\n",
      "40/40 [==============================] - 0s 928us/step - loss: -6.3012 - accuracy: 0.3000\n",
      "Epoch 46/150\n",
      "40/40 [==============================] - 0s 623us/step - loss: -8.3275 - accuracy: 0.3000\n",
      "Epoch 47/150\n",
      "40/40 [==============================] - 0s 326us/step - loss: -11.2021 - accuracy: 0.3000\n",
      "Epoch 48/150\n",
      "40/40 [==============================] - 0s 787us/step - loss: -15.1255 - accuracy: 0.3000\n",
      "Epoch 49/150\n",
      "40/40 [==============================] - 0s 535us/step - loss: -19.9884 - accuracy: 0.3000\n",
      "Epoch 50/150\n",
      "40/40 [==============================] - 0s 1ms/step - loss: -26.7970 - accuracy: 0.3000\n",
      "Epoch 51/150\n",
      "40/40 [==============================] - 0s 2ms/step - loss: -35.9195 - accuracy: 0.3000\n",
      "Epoch 52/150\n",
      "40/40 [==============================] - 0s 1ms/step - loss: -46.7374 - accuracy: 0.3000\n",
      "Epoch 53/150\n",
      "40/40 [==============================] - 0s 831us/step - loss: -61.4195 - accuracy: 0.3000\n",
      "Epoch 54/150\n",
      "40/40 [==============================] - 0s 548us/step - loss: -79.9395 - accuracy: 0.3000\n",
      "Epoch 55/150\n",
      "40/40 [==============================] - 0s 1ms/step - loss: -101.4349 - accuracy: 0.3000\n",
      "Epoch 56/150\n",
      "40/40 [==============================] - 0s 772us/step - loss: -127.5343 - accuracy: 0.3000\n",
      "Epoch 57/150\n",
      "40/40 [==============================] - 0s 837us/step - loss: -164.7360 - accuracy: 0.3000\n",
      "Epoch 58/150\n",
      "40/40 [==============================] - 0s 760us/step - loss: -203.7066 - accuracy: 0.3000\n",
      "Epoch 59/150\n",
      "40/40 [==============================] - 0s 777us/step - loss: -260.4679 - accuracy: 0.3000\n",
      "Epoch 60/150\n",
      "40/40 [==============================] - 0s 951us/step - loss: -316.7785 - accuracy: 0.3000\n",
      "Epoch 61/150\n",
      "40/40 [==============================] - 0s 1ms/step - loss: -391.2771 - accuracy: 0.3000\n",
      "Epoch 62/150\n",
      "40/40 [==============================] - 0s 1ms/step - loss: -476.9998 - accuracy: 0.3000\n",
      "Epoch 63/150\n",
      "40/40 [==============================] - 0s 1ms/step - loss: -587.3816 - accuracy: 0.3000\n",
      "Epoch 64/150\n",
      "40/40 [==============================] - 0s 1ms/step - loss: -713.6250 - accuracy: 0.3000\n",
      "Epoch 65/150\n",
      "40/40 [==============================] - 0s 875us/step - loss: -868.5309 - accuracy: 0.3000\n",
      "Epoch 66/150\n",
      "40/40 [==============================] - 0s 2ms/step - loss: -1040.0711 - accuracy: 0.3000\n",
      "Epoch 67/150\n",
      "40/40 [==============================] - 0s 1ms/step - loss: -1236.0010 - accuracy: 0.3000\n",
      "Epoch 68/150\n",
      "40/40 [==============================] - 0s 984us/step - loss: -1477.1682 - accuracy: 0.3000\n",
      "Epoch 69/150\n",
      "40/40 [==============================] - 0s 1ms/step - loss: -1757.3470 - accuracy: 0.3000\n",
      "Epoch 70/150\n",
      "40/40 [==============================] - 0s 1ms/step - loss: -2084.5149 - accuracy: 0.3000\n",
      "Epoch 71/150\n",
      "40/40 [==============================] - 0s 765us/step - loss: -2406.8606 - accuracy: 0.3000\n",
      "Epoch 72/150\n",
      "40/40 [==============================] - 0s 1ms/step - loss: -2836.3199 - accuracy: 0.3000\n",
      "Epoch 73/150\n",
      "40/40 [==============================] - 0s 1ms/step - loss: -3315.8913 - accuracy: 0.3000\n",
      "Epoch 74/150\n",
      "40/40 [==============================] - 0s 1ms/step - loss: -3867.6588 - accuracy: 0.3000\n",
      "Epoch 75/150\n",
      "40/40 [==============================] - 0s 445us/step - loss: -4438.4442 - accuracy: 0.3000\n",
      "Epoch 76/150\n",
      "40/40 [==============================] - 0s 1ms/step - loss: -5164.9161 - accuracy: 0.3000\n",
      "Epoch 77/150\n",
      "40/40 [==============================] - 0s 894us/step - loss: -5919.3984 - accuracy: 0.3000\n",
      "Epoch 78/150\n",
      "40/40 [==============================] - 0s 1ms/step - loss: -6743.2496 - accuracy: 0.3000\n",
      "Epoch 79/150\n",
      "40/40 [==============================] - 0s 490us/step - loss: -7755.8600 - accuracy: 0.3000\n",
      "Epoch 80/150\n",
      "40/40 [==============================] - 0s 1ms/step - loss: -8775.9005 - accuracy: 0.3000\n",
      "Epoch 81/150\n"
     ]
    },
    {
     "name": "stdout",
     "output_type": "stream",
     "text": [
      "40/40 [==============================] - 0s 773us/step - loss: -9979.1885 - accuracy: 0.3000\n",
      "Epoch 82/150\n",
      "40/40 [==============================] - 0s 571us/step - loss: -11264.3169 - accuracy: 0.3000\n",
      "Epoch 83/150\n",
      "40/40 [==============================] - 0s 658us/step - loss: -12891.3595 - accuracy: 0.3000\n",
      "Epoch 84/150\n",
      "40/40 [==============================] - 0s 775us/step - loss: -14358.2021 - accuracy: 0.3000\n",
      "Epoch 85/150\n",
      "40/40 [==============================] - 0s 696us/step - loss: -16305.8931 - accuracy: 0.3000\n",
      "Epoch 86/150\n",
      "40/40 [==============================] - 0s 549us/step - loss: -18125.3059 - accuracy: 0.3000\n",
      "Epoch 87/150\n",
      "40/40 [==============================] - 0s 930us/step - loss: -20145.8345 - accuracy: 0.3000\n",
      "Epoch 88/150\n",
      "40/40 [==============================] - 0s 816us/step - loss: -22700.9272 - accuracy: 0.3000\n",
      "Epoch 89/150\n",
      "40/40 [==============================] - 0s 836us/step - loss: -25059.2334 - accuracy: 0.3000\n",
      "Epoch 90/150\n",
      "40/40 [==============================] - 0s 973us/step - loss: -27826.4790 - accuracy: 0.3000\n",
      "Epoch 91/150\n",
      "40/40 [==============================] - 0s 791us/step - loss: -30802.1851 - accuracy: 0.3000\n",
      "Epoch 92/150\n",
      "40/40 [==============================] - 0s 644us/step - loss: -33970.9614 - accuracy: 0.3000\n",
      "Epoch 93/150\n",
      "40/40 [==============================] - 0s 671us/step - loss: -37635.2549 - accuracy: 0.3000\n",
      "Epoch 94/150\n",
      "40/40 [==============================] - 0s 871us/step - loss: -41527.8267 - accuracy: 0.3000\n",
      "Epoch 95/150\n",
      "40/40 [==============================] - 0s 866us/step - loss: -45883.9990 - accuracy: 0.3000\n",
      "Epoch 96/150\n",
      "40/40 [==============================] - 0s 1ms/step - loss: -50254.3301 - accuracy: 0.3000\n",
      "Epoch 97/150\n",
      "40/40 [==============================] - 0s 614us/step - loss: -55021.3184 - accuracy: 0.3000\n",
      "Epoch 98/150\n",
      "40/40 [==============================] - 0s 1ms/step - loss: -60516.7324 - accuracy: 0.3000\n",
      "Epoch 99/150\n",
      "40/40 [==============================] - 0s 678us/step - loss: -65840.1562 - accuracy: 0.3000\n",
      "Epoch 100/150\n",
      "40/40 [==============================] - 0s 883us/step - loss: -72000.0391 - accuracy: 0.3000\n",
      "Epoch 101/150\n",
      "40/40 [==============================] - 0s 864us/step - loss: -78677.1387 - accuracy: 0.3000\n",
      "Epoch 102/150\n",
      "40/40 [==============================] - 0s 864us/step - loss: -85534.1377 - accuracy: 0.3000\n",
      "Epoch 103/150\n",
      "40/40 [==============================] - 0s 502us/step - loss: -93641.0137 - accuracy: 0.3000\n",
      "Epoch 104/150\n",
      "40/40 [==============================] - 0s 829us/step - loss: -101023.6494 - accuracy: 0.3000\n",
      "Epoch 105/150\n",
      "40/40 [==============================] - 0s 1ms/step - loss: -110278.6289 - accuracy: 0.3000\n",
      "Epoch 106/150\n",
      "40/40 [==============================] - 0s 1ms/step - loss: -119645.5176 - accuracy: 0.3000\n",
      "Epoch 107/150\n",
      "40/40 [==============================] - 0s 912us/step - loss: -129161.5918 - accuracy: 0.3000\n",
      "Epoch 108/150\n",
      "40/40 [==============================] - 0s 2ms/step - loss: -139440.5469 - accuracy: 0.3000\n",
      "Epoch 109/150\n",
      "40/40 [==============================] - 0s 1ms/step - loss: -151489.3262 - accuracy: 0.3000\n",
      "Epoch 110/150\n",
      "40/40 [==============================] - 0s 1ms/step - loss: -162383.2344 - accuracy: 0.3000\n",
      "Epoch 111/150\n",
      "40/40 [==============================] - 0s 1ms/step - loss: -175232.5977 - accuracy: 0.3000\n",
      "Epoch 112/150\n",
      "40/40 [==============================] - 0s 948us/step - loss: -189478.9883 - accuracy: 0.3000\n",
      "Epoch 113/150\n",
      "40/40 [==============================] - 0s 2ms/step - loss: -203635.3008 - accuracy: 0.3000\n",
      "Epoch 114/150\n",
      "40/40 [==============================] - 0s 1ms/step - loss: -218859.1406 - accuracy: 0.3000\n",
      "Epoch 115/150\n",
      "40/40 [==============================] - 0s 1ms/step - loss: -235478.3711 - accuracy: 0.3000\n",
      "Epoch 116/150\n",
      "40/40 [==============================] - 0s 1ms/step - loss: -251226.9375 - accuracy: 0.3000\n",
      "Epoch 117/150\n",
      "40/40 [==============================] - 0s 1ms/step - loss: -269784.0781 - accuracy: 0.3000\n",
      "Epoch 118/150\n",
      "40/40 [==============================] - 0s 1ms/step - loss: -288733.1484 - accuracy: 0.3000\n",
      "Epoch 119/150\n",
      "40/40 [==============================] - 0s 1ms/step - loss: -308785.9883 - accuracy: 0.3000\n",
      "Epoch 120/150\n",
      "40/40 [==============================] - 0s 1ms/step - loss: -329203.7266 - accuracy: 0.3000\n",
      "Epoch 121/150\n",
      "40/40 [==============================] - 0s 1ms/step - loss: -354116.5312 - accuracy: 0.3000\n",
      "Epoch 122/150\n",
      "40/40 [==============================] - 0s 930us/step - loss: -375508.2656 - accuracy: 0.3000\n",
      "Epoch 123/150\n",
      "40/40 [==============================] - 0s 1ms/step - loss: -402280.0703 - accuracy: 0.3000\n",
      "Epoch 124/150\n",
      "40/40 [==============================] - 0s 1ms/step - loss: -427976.6016 - accuracy: 0.3000\n",
      "Epoch 125/150\n",
      "40/40 [==============================] - 0s 1ms/step - loss: -454232.0625 - accuracy: 0.3000\n",
      "Epoch 126/150\n",
      "40/40 [==============================] - 0s 485us/step - loss: -484877.0859 - accuracy: 0.3000\n",
      "Epoch 127/150\n",
      "40/40 [==============================] - 0s 958us/step - loss: -515621.7266 - accuracy: 0.3000\n",
      "Epoch 128/150\n",
      "40/40 [==============================] - 0s 473us/step - loss: -547779.7656 - accuracy: 0.3000\n",
      "Epoch 129/150\n",
      "40/40 [==============================] - 0s 753us/step - loss: -581570.3828 - accuracy: 0.3000\n",
      "Epoch 130/150\n",
      "40/40 [==============================] - 0s 1ms/step - loss: -615923.3594 - accuracy: 0.3000\n",
      "Epoch 131/150\n",
      "40/40 [==============================] - 0s 624us/step - loss: -651729.7812 - accuracy: 0.3000\n",
      "Epoch 132/150\n",
      "40/40 [==============================] - 0s 1ms/step - loss: -692358.5000 - accuracy: 0.3000\n",
      "Epoch 133/150\n",
      "40/40 [==============================] - 0s 472us/step - loss: -733949.2969 - accuracy: 0.3000\n",
      "Epoch 134/150\n",
      "40/40 [==============================] - 0s 612us/step - loss: -776776.6406 - accuracy: 0.3000\n",
      "Epoch 135/150\n",
      "40/40 [==============================] - 0s 884us/step - loss: -821353.4062 - accuracy: 0.3000\n",
      "Epoch 136/150\n",
      "40/40 [==============================] - 0s 831us/step - loss: -865149.0938 - accuracy: 0.3000\n",
      "Epoch 137/150\n",
      "40/40 [==============================] - 0s 1ms/step - loss: -915301.9062 - accuracy: 0.3000\n",
      "Epoch 138/150\n",
      "40/40 [==============================] - 0s 734us/step - loss: -969849.6250 - accuracy: 0.3000\n",
      "Epoch 139/150\n",
      "40/40 [==============================] - 0s 843us/step - loss: -1018897.4844 - accuracy: 0.3000\n",
      "Epoch 140/150\n",
      "40/40 [==============================] - 0s 867us/step - loss: -1080279.7969 - accuracy: 0.3000\n",
      "Epoch 141/150\n",
      "40/40 [==============================] - 0s 541us/step - loss: -1139091.8281 - accuracy: 0.3000\n",
      "Epoch 142/150\n",
      "40/40 [==============================] - 0s 564us/step - loss: -1196056.7188 - accuracy: 0.3000\n",
      "Epoch 143/150\n",
      "40/40 [==============================] - 0s 1ms/step - loss: -1258111.5156 - accuracy: 0.3000\n",
      "Epoch 144/150\n",
      "40/40 [==============================] - 0s 485us/step - loss: -1326253.3438 - accuracy: 0.3000\n",
      "Epoch 145/150\n",
      "40/40 [==============================] - 0s 775us/step - loss: -1395080.3750 - accuracy: 0.3000\n",
      "Epoch 146/150\n",
      "40/40 [==============================] - 0s 610us/step - loss: -1466199.3125 - accuracy: 0.3000\n",
      "Epoch 147/150\n",
      "40/40 [==============================] - 0s 2ms/step - loss: -1541080.7188 - accuracy: 0.3000\n",
      "Epoch 148/150\n",
      "40/40 [==============================] - 0s 533us/step - loss: -1616239.0781 - accuracy: 0.3000\n",
      "Epoch 149/150\n",
      "40/40 [==============================] - 0s 931us/step - loss: -1699777.0938 - accuracy: 0.3000\n",
      "Epoch 150/150\n",
      "40/40 [==============================] - 0s 1ms/step - loss: -1781221.7812 - accuracy: 0.3000\n"
     ]
    },
    {
     "data": {
      "text/plain": [
       "<keras.callbacks.callbacks.History at 0x7f78b865ef50>"
      ]
     },
     "execution_count": 46,
     "metadata": {},
     "output_type": "execute_result"
    }
   ],
   "source": [
    "model.compile(loss='binary_crossentropy', optimizer='adam', metrics=['accuracy'])\n",
    "model.fit(X_train, y_train, epochs=150, batch_size=10)"
   ]
  },
  {
   "cell_type": "code",
   "execution_count": 47,
   "metadata": {},
   "outputs": [
    {
     "name": "stdout",
     "output_type": "stream",
     "text": [
      "K Neighbors  0.5\n",
      "Random Forest Score:  0.6\n",
      "GaussianNB Score:  0.5\n"
     ]
    }
   ],
   "source": [
    "print(\"K Neighbors \",knn.score(X_test, y_test))\n",
    "print(\"Random Forest Score: \",ran.score(X_test, y_test))\n",
    "print(\"GaussianNB Score: \",gnb.score(X_test, y_test))"
   ]
  },
  {
   "cell_type": "code",
   "execution_count": 48,
   "metadata": {},
   "outputs": [
    {
     "name": "stdout",
     "output_type": "stream",
     "text": [
      "10/10 [==============================] - 0s 23ms/step\n",
      "NN Score:  [-1841167.25, 0.30000001192092896]\n"
     ]
    }
   ],
   "source": [
    "print(\"NN Score: \",model.evaluate(X_test, y_test))"
   ]
  },
  {
   "cell_type": "code",
   "execution_count": null,
   "metadata": {},
   "outputs": [],
   "source": []
  }
 ],
 "metadata": {
  "kernelspec": {
   "display_name": "Python 3",
   "language": "python",
   "name": "python3"
  },
  "language_info": {
   "codemirror_mode": {
    "name": "ipython",
    "version": 3
   },
   "file_extension": ".py",
   "mimetype": "text/x-python",
   "name": "python",
   "nbconvert_exporter": "python",
   "pygments_lexer": "ipython3",
   "version": "3.7.4"
  }
 },
 "nbformat": 4,
 "nbformat_minor": 4
}
